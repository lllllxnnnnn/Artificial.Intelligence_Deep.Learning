{
 "cells": [
  {
   "cell_type": "markdown",
   "metadata": {
    "toc": true
   },
   "source": [
    "<h1>Table of Contents<span class=\"tocSkip\"></span></h1>\n",
    "<div class=\"toc\"><ul class=\"toc-item\"><li><span><a href=\"#XOR-problem\" data-toc-modified-id=\"XOR-problem-1\"><span class=\"toc-item-num\">1&nbsp;&nbsp;</span>XOR problem</a></span></li><li><span><a href=\"#depth-2-NN\" data-toc-modified-id=\"depth-2-NN-2\"><span class=\"toc-item-num\">2&nbsp;&nbsp;</span>depth-2 NN</a></span><ul class=\"toc-item\"><li><span><a href=\"#Build-the-model\" data-toc-modified-id=\"Build-the-model-2.1\"><span class=\"toc-item-num\">2.1&nbsp;&nbsp;</span>Build the model</a></span></li><li><span><a href=\"#Implement-the-loss\" data-toc-modified-id=\"Implement-the-loss-2.2\"><span class=\"toc-item-num\">2.2&nbsp;&nbsp;</span>Implement the loss</a></span></li><li><span><a href=\"#Select-an-optimizer\" data-toc-modified-id=\"Select-an-optimizer-2.3\"><span class=\"toc-item-num\">2.3&nbsp;&nbsp;</span>Select an optimizer</a></span></li></ul></li><li><span><a href=\"#Training-NN\" data-toc-modified-id=\"Training-NN-3\"><span class=\"toc-item-num\">3&nbsp;&nbsp;</span>Training NN</a></span></li></ul></div>"
   ]
  },
  {
   "cell_type": "code",
   "execution_count": 1,
   "metadata": {},
   "outputs": [],
   "source": [
    "import tensorflow as tf\n",
    "import numpy as np\n",
    "import matplotlib.pyplot as plt"
   ]
  },
  {
   "cell_type": "markdown",
   "metadata": {},
   "source": [
    "## XOR problem"
   ]
  },
  {
   "cell_type": "code",
   "execution_count": 3,
   "metadata": {},
   "outputs": [],
   "source": [
    "# XOR function data\n",
    "x = np.array([[0.0, 0.0], [0.0, 1.0], [1.0, 0.0], [1.0, 1.0]])\n",
    "y = np.array([[0.0], [1.0], [1.0], [0.0]])\n",
    "\n",
    "x = tf.cast(x, tf.float32)\n",
    "y = tf.cast(y, tf.float32)\n",
    "# 数据类型转换 cast(x, dtype, name=None)"
   ]
  },
  {
   "cell_type": "code",
   "execution_count": 4,
   "metadata": {},
   "outputs": [
    {
     "data": {
      "image/png": "[encoded data removed]",
      "text/plain": [
       "<Figure size 432x288 with 1 Axes>"
      ]
     },
     "metadata": {
      "needs_background": "light"
     },
     "output_type": "display_data"
    }
   ],
   "source": [
    "# Visualising the data\n",
    "def plot_xor(x):\n",
    "    plt.plot([x[0, 0], x[3, 0]], [x[0, 1], x[3, 1]], 'rs')\n",
    "    plt.plot([x[1, 0], x[2, 0]], [x[1, 1], x[2, 1]], 'bs')\n",
    "    plt.title('XOR x data')\n",
    "    plt.show()\n",
    "    \n",
    "plot_xor(x)"
   ]
  },
  {
   "cell_type": "markdown",
   "metadata": {},
   "source": [
    "## depth-2 NN\n",
    "\n",
    "### Build the model\n",
    "\n",
    "Build a tf.keras.Sequential model => Sequential groups a linear stack of layers into a tf.keras.Model.\n",
    "Have a look at https://www.tensorflow.org/guide/keras/sequential_model\n",
    "and https://www.tensorflow.org/api_docs/python/tf/keras/Sequential\n",
    "\n",
    "Also check how layers.Dense is built:\n",
    "https://www.tensorflow.org/api_docs/python/tf/keras/layers/Dense\n",
    "\n",
    "and about the ReLU activation function:\n",
    "https://machinelearningmastery.com/rectified-linear-activation-function-for-deep-learning-neural-networks/"
   ]
  },
  {
   "cell_type": "code",
   "execution_count": 5,
   "metadata": {},
   "outputs": [],
   "source": [
    "xor_network = tf.keras.Sequential([\n",
    "    tf.keras.layers.Dense(2, activation='relu',use_bias=False, kernel_initializer=tf.random_normal_initializer(seed=100, stddev=0.1), dtype='float32'),\n",
    "    tf.keras.layers.Dense(1, use_bias=False, kernel_initializer=tf.random_normal_initializer(seed=100, stddev=0.1), dtype='float32'),\n",
    "])"
   ]
  },
  {
   "cell_type": "markdown",
   "metadata": {},
   "source": [
    "Note the restriction applied to initialization - if y_hat is too much, then the log in loss will go to infinity. We need y_hat between -1 and 1, and then use sigmoid to make it in [0,1].\n",
    "\n",
    "### Implement the loss\n",
    "\n",
    "Cross-entropy is a measure building upon entropy and generally calculating the difference between \n",
    "two probability distributions. It is widely used as a loss function when optimizing classification models.\n",
    "Extracted from https://machinelearningmastery.com/cross-entropy-for-machine-learning/"
   ]
  },
  {
   "cell_type": "code",
   "execution_count": 7,
   "metadata": {},
   "outputs": [],
   "source": [
    "# Function inputs: y (expected), y_hat (predicted)\n",
    "def cross_entropy(y, y_hat):\n",
    "    loss = 0\n",
    "    m = y.shape[0]\n",
    "    \n",
    "    for i in range(m):\n",
    "        if y[i] == 1.0:\n",
    "            loss += -tf.math.log(y_hat[i])  # probability for class 1 (given directly by the model)\n",
    "        else:\n",
    "            loss += -tf.math.log(1.0 - y_hat[i]) # probability for class 0\n",
    "            \n",
    "    m = tf.cast(m, tf.float32)\n",
    "    return loss / m"
   ]
  },
  {
   "cell_type": "markdown",
   "metadata": {},
   "source": [
    "### Select an optimizer\n",
    "\n",
    "The Gradient descent algorithm is more precise than simple step functions.\n",
    "\n",
    "Look at https://www.tensorflow.org/api_docs/python/tf/keras/optimizers/SGD"
   ]
  },
  {
   "cell_type": "code",
   "execution_count": 8,
   "metadata": {},
   "outputs": [],
   "source": [
    "optimiser = tf.optimizers.SGD(learning_rate=1e-1)"
   ]
  },
  {
   "cell_type": "markdown",
   "metadata": {},
   "source": [
    "## Training NN\n",
    "\n",
    "Further reference on tf.GradientTape\n",
    "\n",
    "https://www.tensorflow.org/api_docs/python/tf/GradientTape\n",
    "\n",
    "https://medium.com/analytics-vidhya/tf-gradienttape-explained-for-keras-users-cc3f06276f22"
   ]
  },
  {
   "cell_type": "code",
   "execution_count": 9,
   "metadata": {},
   "outputs": [
    {
     "name": "stdout",
     "output_type": "stream",
     "text": [
      "Epoch => 0 loss: 0.69\n",
      "Epoch => 1 loss: 0.69\n",
      "Epoch => 2 loss: 0.69\n",
      "Epoch => 3 loss: 0.69\n",
      "Epoch => 4 loss: 0.69\n",
      "Epoch => 5 loss: 0.69\n",
      "Epoch => 6 loss: 0.69\n",
      "Epoch => 7 loss: 0.69\n",
      "Epoch => 8 loss: 0.69\n",
      "Epoch => 9 loss: 0.69\n",
      "Epoch => 10 loss: 0.69\n",
      "Epoch => 11 loss: 0.69\n",
      "Epoch => 12 loss: 0.69\n",
      "Epoch => 13 loss: 0.69\n",
      "Epoch => 14 loss: 0.69\n",
      "Epoch => 15 loss: 0.69\n",
      "Epoch => 16 loss: 0.69\n",
      "Epoch => 17 loss: 0.69\n",
      "Epoch => 18 loss: 0.69\n",
      "Epoch => 19 loss: 0.69\n",
      "Epoch => 20 loss: 0.69\n",
      "Epoch => 21 loss: 0.69\n",
      "Epoch => 22 loss: 0.69\n",
      "Epoch => 23 loss: 0.69\n",
      "Epoch => 24 loss: 0.69\n",
      "Epoch => 25 loss: 0.69\n",
      "Epoch => 26 loss: 0.69\n",
      "Epoch => 27 loss: 0.69\n",
      "Epoch => 28 loss: 0.69\n",
      "Epoch => 29 loss: 0.69\n",
      "Epoch => 30 loss: 0.69\n",
      "Epoch => 31 loss: 0.69\n",
      "Epoch => 32 loss: 0.69\n",
      "Epoch => 33 loss: 0.69\n",
      "Epoch => 34 loss: 0.69\n",
      "Epoch => 35 loss: 0.69\n",
      "Epoch => 36 loss: 0.69\n",
      "Epoch => 37 loss: 0.69\n",
      "Epoch => 38 loss: 0.69\n",
      "Epoch => 39 loss: 0.69\n",
      "Epoch => 40 loss: 0.69\n",
      "Epoch => 41 loss: 0.69\n",
      "Epoch => 42 loss: 0.69\n",
      "Epoch => 43 loss: 0.69\n",
      "Epoch => 44 loss: 0.69\n",
      "Epoch => 45 loss: 0.68\n",
      "Epoch => 46 loss: 0.68\n",
      "Epoch => 47 loss: 0.68\n",
      "Epoch => 48 loss: 0.68\n",
      "Epoch => 49 loss: 0.68\n",
      "Epoch => 50 loss: 0.68\n",
      "Epoch => 51 loss: 0.68\n",
      "Epoch => 52 loss: 0.68\n",
      "Epoch => 53 loss: 0.68\n",
      "Epoch => 54 loss: 0.68\n",
      "Epoch => 55 loss: 0.68\n",
      "Epoch => 56 loss: 0.68\n",
      "Epoch => 57 loss: 0.68\n",
      "Epoch => 58 loss: 0.68\n",
      "Epoch => 59 loss: 0.68\n",
      "Epoch => 60 loss: 0.68\n",
      "Epoch => 61 loss: 0.68\n",
      "Epoch => 62 loss: 0.68\n",
      "Epoch => 63 loss: 0.68\n",
      "Epoch => 64 loss: 0.68\n",
      "Epoch => 65 loss: 0.68\n",
      "Epoch => 66 loss: 0.68\n",
      "Epoch => 67 loss: 0.68\n",
      "Epoch => 68 loss: 0.68\n",
      "Epoch => 69 loss: 0.68\n",
      "Epoch => 70 loss: 0.68\n",
      "Epoch => 71 loss: 0.68\n",
      "Epoch => 72 loss: 0.68\n",
      "Epoch => 73 loss: 0.68\n",
      "Epoch => 74 loss: 0.68\n",
      "Epoch => 75 loss: 0.68\n",
      "Epoch => 76 loss: 0.68\n",
      "Epoch => 77 loss: 0.68\n",
      "Epoch => 78 loss: 0.68\n",
      "Epoch => 79 loss: 0.68\n",
      "Epoch => 80 loss: 0.68\n",
      "Epoch => 81 loss: 0.68\n",
      "Epoch => 82 loss: 0.68\n",
      "Epoch => 83 loss: 0.68\n",
      "Epoch => 84 loss: 0.68\n",
      "Epoch => 85 loss: 0.68\n",
      "Epoch => 86 loss: 0.68\n",
      "Epoch => 87 loss: 0.68\n",
      "Epoch => 88 loss: 0.68\n",
      "Epoch => 89 loss: 0.68\n",
      "Epoch => 90 loss: 0.68\n",
      "Epoch => 91 loss: 0.68\n",
      "Epoch => 92 loss: 0.68\n",
      "Epoch => 93 loss: 0.68\n",
      "Epoch => 94 loss: 0.67\n",
      "Epoch => 95 loss: 0.67\n",
      "Epoch => 96 loss: 0.67\n",
      "Epoch => 97 loss: 0.67\n",
      "Epoch => 98 loss: 0.67\n",
      "Epoch => 99 loss: 0.67\n"
     ]
    }
   ],
   "source": [
    "# Running the model for 100 epochs\n",
    "epochs = 100\n",
    "loss_list = []\n",
    "\n",
    "for iter in range(epochs):\n",
    "    with tf.GradientTape() as tape: \n",
    "        y_hat = xor_network(x, training=True)\n",
    "        y_predict = tf.nn.sigmoid(y_hat)\n",
    "        loss = cross_entropy(y, y_predict) \n",
    "        \n",
    "    grads = tape.gradient(loss, xor_network.trainable_variables) \n",
    "    optimiser.apply_gradients(zip(grads, xor_network.trainable_variables)) \n",
    "    loss_list.append(loss)\n",
    "    \n",
    "    print(\"Epoch => %d loss: %.2f\" %(iter, loss))"
   ]
  },
  {
   "cell_type": "code",
   "execution_count": 11,
   "metadata": {},
   "outputs": [
    {
     "data": {
      "text/plain": [
       "Text(0.5, 1.0, 'Loss')"
      ]
     },
     "execution_count": 11,
     "metadata": {},
     "output_type": "execute_result"
    },
    {
     "data": {
      "image/png": "[encoded data removed]",
      "text/plain": [
       "<Figure size 432x288 with 1 Axes>"
      ]
     },
     "metadata": {
      "needs_background": "light"
     },
     "output_type": "display_data"
    }
   ],
   "source": [
    "plt.plot(loss_list)\n",
    "plt.title('Loss')"
   ]
  },
  {
   "cell_type": "code",
   "execution_count": null,
   "metadata": {},
   "outputs": [],
   "source": []
  },
  {
   "cell_type": "code",
   "execution_count": null,
   "metadata": {},
   "outputs": [],
   "source": []
  }
 ],
 "metadata": {
  "kernelspec": {
   "display_name": "Python 3",
   "language": "python",
   "name": "python3"
  },
  "language_info": {
   "codemirror_mode": {
    "name": "ipython",
    "version": 3
   },
   "file_extension": ".py",
   "mimetype": "text/x-python",
   "name": "python",
   "nbconvert_exporter": "python",
   "pygments_lexer": "ipython3",
   "version": "3.8.3"
  },
  "toc": {
   "base_numbering": 1,
   "nav_menu": {},
   "number_sections": true,
   "sideBar": true,
   "skip_h1_title": true,
   "title_cell": "Table of Contents",
   "title_sidebar": "Contents",
   "toc_cell": true,
   "toc_position": {},
   "toc_section_display": true,
   "toc_window_display": false
  }
 },
 "nbformat": 4,
 "nbformat_minor": 4
}
